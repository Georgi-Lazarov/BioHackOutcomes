{
 "cells": [
  {
   "cell_type": "markdown",
   "metadata": {},
   "source": [
    "# Reading a markdown file\n",
    "\n",
    "In this notebook we read and process a readme.md file got from GitHub"
   ]
  },
  {
   "cell_type": "code",
   "execution_count": 1,
   "metadata": {},
   "outputs": [
    {
     "name": "stdout",
     "output_type": "stream",
     "text": [
      "['https://github.com/panoptes-organization/panoptes', 'https://github.com/panoptes-organization/panoptes', 'https://github.com/panoptes-organization/snakemake_example_workflow']\n"
     ]
    }
   ],
   "source": [
    "import re\n",
    "\n",
    "mid_pattern = '\\/[a-zA-z0-9-_.~#]+'\n",
    "pattern = re.compile('(https:\\/\\/github\\.com' + mid_pattern + mid_pattern + ')')\n",
    "\n",
    "with open(\"./data/readme.md\", \"r\", encoding=\"utf-8\") as input_file:\n",
    "    text = input_file.read()\n",
    "\n",
    "items = re.findall(pattern, text)\n",
    "print(items)\n",
    "\n",
    "\n",
    "#htmlmarkdown = md.convert(text)\n",
    "#print(htmlmarkdown)"
   ]
  },
  {
   "cell_type": "code",
   "execution_count": 2,
   "metadata": {},
   "outputs": [
    {
     "name": "stdout",
     "output_type": "stream",
     "text": [
      "Introduce your personal access token to acces the GitHub API: ········\n"
     ]
    }
   ],
   "source": [
    "import getpass\n",
    "\n",
    "\n",
    "try:\n",
    "    from secret import GITHUB_TOKEN\n",
    "except ModuleNotFoundError:\n",
    "    GITHUB_TOKEN = getpass.getpass(\"Introduce your personal access token to acces the GitHub API: \")"
   ]
  },
  {
   "cell_type": "code",
   "execution_count": 3,
   "metadata": {},
   "outputs": [
    {
     "name": "stdout",
     "output_type": "stream",
     "text": [
      "<github.MainClass.Github object at 0x000001E723657F48>\n"
     ]
    }
   ],
   "source": [
    "#!pip install PyGithub\n",
    "from github import Github\n",
    "\n",
    "g = Github(GITHUB_TOKEN)\n",
    "print(g)\n"
   ]
  },
  {
   "cell_type": "code",
   "execution_count": 26,
   "metadata": {},
   "outputs": [
    {
     "data": {
      "text/plain": [
       "'panoptes'"
      ]
     },
     "execution_count": 26,
     "metadata": {},
     "output_type": "execute_result"
    }
   ],
   "source": [
    "#loop over github urls found\n",
    "#exclude/remove duplications\n",
    "#get repo name\n",
    "\n",
    "github_url = 'https://github.com/panoptes-organization/panoptes'\n",
    "repo_name = github_url.split('/',3)[-1]\n",
    "repo = g.get_repo(repo_name)\n",
    "repo.name"
   ]
  },
  {
   "cell_type": "code",
   "execution_count": null,
   "metadata": {},
   "outputs": [],
   "source": []
  }
 ],
 "metadata": {
  "kernelspec": {
   "display_name": "Python 3",
   "language": "python",
   "name": "python3"
  },
  "language_info": {
   "codemirror_mode": {
    "name": "ipython",
    "version": 3
   },
   "file_extension": ".py",
   "mimetype": "text/x-python",
   "name": "python",
   "nbconvert_exporter": "python",
   "pygments_lexer": "ipython3",
   "version": "3.7.6"
  }
 },
 "nbformat": 4,
 "nbformat_minor": 4
}
