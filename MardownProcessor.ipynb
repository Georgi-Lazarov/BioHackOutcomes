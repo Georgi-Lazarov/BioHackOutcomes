{
 "cells": [
  {
   "cell_type": "markdown",
   "metadata": {},
   "source": [
    "# Reading a markdown file\n",
    "\n",
    "In this notebook we read and process a readme.md file got from GitHub"
   ]
  },
  {
   "cell_type": "code",
   "execution_count": 21,
   "metadata": {},
   "outputs": [
    {
     "name": "stdout",
     "output_type": "stream",
     "text": [
      "['https://github.com/panoptes-organization/panoptes', 'https://github.com/panoptes-organization/panoptes', 'https://github.com/panoptes-organization/snakemake_example_workflow']\n"
     ]
    }
   ],
   "source": [
    "import re\n",
    "\n",
    "mid_pattern = '\\/[a-zA-z0-9-_.~#]+'\n",
    "pattern = re.compile('(https:\\/\\/github\\.com' + mid_pattern + mid_pattern + ')')\n",
    "\n",
    "with open(\"./data/readme.md\", \"r\", encoding=\"utf-8\") as input_file:\n",
    "    text = input_file.read()\n",
    "\n",
    "items = re.findall(pattern, text)\n",
    "print(items)\n",
    "\n",
    "\n",
    "#htmlmarkdown = md.convert(text)\n",
    "#print(htmlmarkdown)"
   ]
  },
  {
   "cell_type": "code",
   "execution_count": 13,
   "metadata": {},
   "outputs": [
    {
     "name": "stdout",
     "output_type": "stream",
     "text": [
      "Introduce your personal access token to acces the GitHub API: ········\n"
     ]
    }
   ],
   "source": [
    "import getpass\n",
    "\n",
    "\n",
    "try:\n",
    "    from secret import GITHUB_TOKEN\n",
    "except ModuleNotFoundError:\n",
    "    GITHUB_TOKEN = getpass.getpass(\"Introduce your personal access token to acces the GitHub API: \")"
   ]
  },
  {
   "cell_type": "code",
   "execution_count": 29,
   "metadata": {},
   "outputs": [
    {
     "name": "stdout",
     "output_type": "stream",
     "text": [
      "<github.MainClass.Github object at 0x000001CA71A30108>\n"
     ]
    }
   ],
   "source": [
    "#!pip install PyGithub\n",
    "from github import Github\n",
    "\n",
    "g = Github(GITHUB_TOKEN)\n",
    "print(g)\n"
   ]
  },
  {
   "cell_type": "code",
   "execution_count": 31,
   "metadata": {},
   "outputs": [
    {
     "ename": "BadCredentialsException",
     "evalue": "401 {\"message\": \"Bad credentials\", \"documentation_url\": \"https://docs.github.com/rest\"}",
     "output_type": "error",
     "traceback": [
      "\u001b[1;31m---------------------------------------------------------------------------\u001b[0m",
      "\u001b[1;31mBadCredentialsException\u001b[0m                   Traceback (most recent call last)",
      "\u001b[1;32m<ipython-input-31-0372444a0c73>\u001b[0m in \u001b[0;36m<module>\u001b[1;34m\u001b[0m\n\u001b[0;32m      5\u001b[0m \u001b[0mgithub_url\u001b[0m \u001b[1;33m=\u001b[0m \u001b[1;34m'https://github.com/panoptes-organization/panoptes'\u001b[0m\u001b[1;33m\u001b[0m\u001b[1;33m\u001b[0m\u001b[0m\n\u001b[0;32m      6\u001b[0m \u001b[0mrepo_name\u001b[0m \u001b[1;33m=\u001b[0m \u001b[1;34m'ljgarcia/Deleteme'\u001b[0m\u001b[1;31m#'panoptes-organization/panoptes' #github_url.rsplit('/', 1)[-1]\u001b[0m\u001b[1;33m\u001b[0m\u001b[1;33m\u001b[0m\u001b[0m\n\u001b[1;32m----> 7\u001b[1;33m \u001b[0mrepo\u001b[0m \u001b[1;33m=\u001b[0m \u001b[0mg\u001b[0m\u001b[1;33m.\u001b[0m\u001b[0mget_repo\u001b[0m\u001b[1;33m(\u001b[0m\u001b[0mrepo_name\u001b[0m\u001b[1;33m)\u001b[0m\u001b[1;33m\u001b[0m\u001b[1;33m\u001b[0m\u001b[0m\n\u001b[0m\u001b[0;32m      8\u001b[0m \u001b[1;31m#repo.name\u001b[0m\u001b[1;33m\u001b[0m\u001b[1;33m\u001b[0m\u001b[1;33m\u001b[0m\u001b[0m\n",
      "\u001b[1;32mC:\\Software\\Anaconda3\\lib\\site-packages\\github\\MainClass.py\u001b[0m in \u001b[0;36mget_repo\u001b[1;34m(self, full_name_or_id, lazy)\u001b[0m\n\u001b[0;32m    332\u001b[0m             )\n\u001b[0;32m    333\u001b[0m         headers, data = self.__requester.requestJsonAndCheck(\n\u001b[1;32m--> 334\u001b[1;33m             \u001b[1;34m\"GET\"\u001b[0m\u001b[1;33m,\u001b[0m \u001b[1;34m\"%s%s\"\u001b[0m \u001b[1;33m%\u001b[0m \u001b[1;33m(\u001b[0m\u001b[0murl_base\u001b[0m\u001b[1;33m,\u001b[0m \u001b[0mfull_name_or_id\u001b[0m\u001b[1;33m)\u001b[0m\u001b[1;33m\u001b[0m\u001b[1;33m\u001b[0m\u001b[0m\n\u001b[0m\u001b[0;32m    335\u001b[0m         )\n\u001b[0;32m    336\u001b[0m         \u001b[1;32mreturn\u001b[0m \u001b[0mRepository\u001b[0m\u001b[1;33m.\u001b[0m\u001b[0mRepository\u001b[0m\u001b[1;33m(\u001b[0m\u001b[0mself\u001b[0m\u001b[1;33m.\u001b[0m\u001b[0m__requester\u001b[0m\u001b[1;33m,\u001b[0m \u001b[0mheaders\u001b[0m\u001b[1;33m,\u001b[0m \u001b[0mdata\u001b[0m\u001b[1;33m,\u001b[0m \u001b[0mcompleted\u001b[0m\u001b[1;33m=\u001b[0m\u001b[1;32mTrue\u001b[0m\u001b[1;33m)\u001b[0m\u001b[1;33m\u001b[0m\u001b[1;33m\u001b[0m\u001b[0m\n",
      "\u001b[1;32mC:\\Software\\Anaconda3\\lib\\site-packages\\github\\Requester.py\u001b[0m in \u001b[0;36mrequestJsonAndCheck\u001b[1;34m(self, verb, url, parameters, headers, input)\u001b[0m\n\u001b[0;32m    317\u001b[0m         return self.__check(\n\u001b[0;32m    318\u001b[0m             *self.requestJson(\n\u001b[1;32m--> 319\u001b[1;33m                 \u001b[0mverb\u001b[0m\u001b[1;33m,\u001b[0m \u001b[0murl\u001b[0m\u001b[1;33m,\u001b[0m \u001b[0mparameters\u001b[0m\u001b[1;33m,\u001b[0m \u001b[0mheaders\u001b[0m\u001b[1;33m,\u001b[0m \u001b[0minput\u001b[0m\u001b[1;33m,\u001b[0m \u001b[0mself\u001b[0m\u001b[1;33m.\u001b[0m\u001b[0m__customConnection\u001b[0m\u001b[1;33m(\u001b[0m\u001b[0murl\u001b[0m\u001b[1;33m)\u001b[0m\u001b[1;33m\u001b[0m\u001b[1;33m\u001b[0m\u001b[0m\n\u001b[0m\u001b[0;32m    320\u001b[0m             )\n\u001b[0;32m    321\u001b[0m         )\n",
      "\u001b[1;32mC:\\Software\\Anaconda3\\lib\\site-packages\\github\\Requester.py\u001b[0m in \u001b[0;36m__check\u001b[1;34m(self, status, responseHeaders, output)\u001b[0m\n\u001b[0;32m    340\u001b[0m         \u001b[0moutput\u001b[0m \u001b[1;33m=\u001b[0m \u001b[0mself\u001b[0m\u001b[1;33m.\u001b[0m\u001b[0m__structuredFromJson\u001b[0m\u001b[1;33m(\u001b[0m\u001b[0moutput\u001b[0m\u001b[1;33m)\u001b[0m\u001b[1;33m\u001b[0m\u001b[1;33m\u001b[0m\u001b[0m\n\u001b[0;32m    341\u001b[0m         \u001b[1;32mif\u001b[0m \u001b[0mstatus\u001b[0m \u001b[1;33m>=\u001b[0m \u001b[1;36m400\u001b[0m\u001b[1;33m:\u001b[0m\u001b[1;33m\u001b[0m\u001b[1;33m\u001b[0m\u001b[0m\n\u001b[1;32m--> 342\u001b[1;33m             \u001b[1;32mraise\u001b[0m \u001b[0mself\u001b[0m\u001b[1;33m.\u001b[0m\u001b[0m__createException\u001b[0m\u001b[1;33m(\u001b[0m\u001b[0mstatus\u001b[0m\u001b[1;33m,\u001b[0m \u001b[0mresponseHeaders\u001b[0m\u001b[1;33m,\u001b[0m \u001b[0moutput\u001b[0m\u001b[1;33m)\u001b[0m\u001b[1;33m\u001b[0m\u001b[1;33m\u001b[0m\u001b[0m\n\u001b[0m\u001b[0;32m    343\u001b[0m         \u001b[1;32mreturn\u001b[0m \u001b[0mresponseHeaders\u001b[0m\u001b[1;33m,\u001b[0m \u001b[0moutput\u001b[0m\u001b[1;33m\u001b[0m\u001b[1;33m\u001b[0m\u001b[0m\n\u001b[0;32m    344\u001b[0m \u001b[1;33m\u001b[0m\u001b[0m\n",
      "\u001b[1;31mBadCredentialsException\u001b[0m: 401 {\"message\": \"Bad credentials\", \"documentation_url\": \"https://docs.github.com/rest\"}"
     ]
    }
   ],
   "source": [
    "#loop over github urls found\n",
    "#exclude/remove duplications\n",
    "#get repo name\n",
    "\n",
    "#failing\n",
    "\n",
    "github_url = 'https://github.com/panoptes-organization/panoptes'\n",
    "repo_name = 'ljgarcia/Deleteme'#'panoptes-organization/panoptes' #github_url.rsplit('/', 1)[-1]\n",
    "repo = g.get_repo(repo_name)\n",
    "#repo.name"
   ]
  },
  {
   "cell_type": "code",
   "execution_count": null,
   "metadata": {},
   "outputs": [],
   "source": []
  }
 ],
 "metadata": {
  "kernelspec": {
   "display_name": "Python 3",
   "language": "python",
   "name": "python3"
  },
  "language_info": {
   "codemirror_mode": {
    "name": "ipython",
    "version": 3
   },
   "file_extension": ".py",
   "mimetype": "text/x-python",
   "name": "python",
   "nbconvert_exporter": "python",
   "pygments_lexer": "ipython3",
   "version": "3.7.6"
  }
 },
 "nbformat": 4,
 "nbformat_minor": 4
}
